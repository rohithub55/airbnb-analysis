{
  "nbformat": 4,
  "nbformat_minor": 0,
  "metadata": {
    "colab": {
      "name": "airbnb-analysis.ipynb",
      "provenance": [],
      "collapsed_sections": [],
      "authorship_tag": "ABX9TyOU0RyYVZaYi5kmhswiqPyK",
      "include_colab_link": true
    },
    "kernelspec": {
      "name": "python3",
      "display_name": "Python 3"
    },
    "language_info": {
      "name": "python"
    }
  },
  "cells": [
    {
      "cell_type": "markdown",
      "metadata": {
        "id": "view-in-github",
        "colab_type": "text"
      },
      "source": [
        "<a href=\"https://colab.research.google.com/github/rohithub55/airbnb-analysis/blob/main/airbnb_analysis.ipynb\" target=\"_parent\"><img src=\"https://colab.research.google.com/assets/colab-badge.svg\" alt=\"Open In Colab\"/></a>"
      ]
    },
    {
      "cell_type": "markdown",
      "metadata": {
        "id": "pi4999Wxl8Yo"
      },
      "source": [
        "# AIRBNB ANALYSIS\n",
        "\n",
        "#  Since 2008, guests and hosts have used Airbnb to expand on traveling possibilities and present a more unique, personalized way of experiencing the world. Today, Airbnb became one of a kind service that is used and recognized by the whole world. Data analysis on millions of listings provided through Airbnb is a crucial factor for the company. These millions of listings generate a lot of data - data that can be analyzed and used for security, business decisions, understanding of customers' and providers' (hosts) behavior and performance on the platform, guiding marketing initiatives, implementation of innovative additional services and much more.\n",
        "\n",
        "\n",
        "# This dataset has around 49,000 observations in it with 16 columns and it is a mix between categorical and numeric values."
      ]
    },
    {
      "cell_type": "code",
      "metadata": {
        "id": "dByMsuzT8Tnw"
      },
      "source": [
        "#Let's fuel up the rocket to launch...\n",
        "import pandas as pd\n",
        "import matplotlib.pyplot as plt\n",
        "import seaborn as sns\n",
        "import numpy as np\n",
        "from scipy.stats import norm\n",
        "from sklearn.preprocessing import StandardScaler\n",
        "from scipy import stats\n",
        "import warnings\n",
        "warnings.filterwarnings('ignore')\n",
        "%matplotlib inline\n",
        "import plotly.express as px"
      ],
      "execution_count": 1,
      "outputs": []
    },
    {
      "cell_type": "markdown",
      "source": [
        "# Mount the google drive."
      ],
      "metadata": {
        "id": "-x-krxJJYPH5"
      }
    },
    {
      "cell_type": "code",
      "metadata": {
        "id": "4spziuiZiZZy",
        "colab": {
          "base_uri": "https://localhost:8080/"
        },
        "outputId": "4a742b9e-adeb-41ed-b1bf-984610a33cd7"
      },
      "source": [
        "from google.colab import drive\n",
        "drive.mount('/content/drive')"
      ],
      "execution_count": 2,
      "outputs": [
        {
          "output_type": "stream",
          "name": "stdout",
          "text": [
            "Mounted at /content/drive\n"
          ]
        }
      ]
    },
    {
      "cell_type": "markdown",
      "source": [
        "# Let's load the fuel (Dataset)"
      ],
      "metadata": {
        "id": "_QoP87xXYl8m"
      }
    },
    {
      "cell_type": "code",
      "metadata": {
        "id": "6giJz6bKipp6"
      },
      "source": [
        "#creating directory path\n",
        "dir_path='/content/drive/My Drive/Dataset'"
      ],
      "execution_count": 3,
      "outputs": []
    },
    {
      "cell_type": "code",
      "metadata": {
        "id": "ZxR1HbDbivz-"
      },
      "source": [
        "#read dataset and naming it as airbnb data frame\n",
        "airbnb_df=pd.read_csv(\"/content/drive/MyDrive/Airbnb/Copy of Airbnb NYC 2019.csv\")"
      ],
      "execution_count": 4,
      "outputs": []
    }
  ]
}